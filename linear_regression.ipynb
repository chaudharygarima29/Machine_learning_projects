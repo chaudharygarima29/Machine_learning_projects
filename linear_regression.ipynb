{
  "nbformat": 4,
  "nbformat_minor": 0,
  "metadata": {
    "colab": {
      "provenance": [],
      "authorship_tag": "ABX9TyMjM2O2lXMRzXQ7lmLEmDIl",
      "include_colab_link": true
    },
    "kernelspec": {
      "name": "python3",
      "display_name": "Python 3"
    },
    "language_info": {
      "name": "python"
    }
  },
  "cells": [
    {
      "cell_type": "markdown",
      "metadata": {
        "id": "view-in-github",
        "colab_type": "text"
      },
      "source": [
        "<a href=\"https://colab.research.google.com/github/chaudharygarima29/Machine_learning_projects/blob/main/linear_regression.ipynb\" target=\"_parent\"><img src=\"https://colab.research.google.com/assets/colab-badge.svg\" alt=\"Open In Colab\"/></a>"
      ]
    },
    {
      "cell_type": "markdown",
      "source": [
        "Importing libraries"
      ],
      "metadata": {
        "id": "GtWSVdg-lfPk"
      }
    },
    {
      "cell_type": "code",
      "execution_count": 63,
      "metadata": {
        "id": "Jk9yB6yMLtId"
      },
      "outputs": [],
      "source": [
        "\n",
        "import pandas as pd\n",
        "import numpy as np\n",
        "import matplotlib.pyplot as plt"
      ]
    },
    {
      "cell_type": "markdown",
      "source": [
        "Load the dataset"
      ],
      "metadata": {
        "id": "8SDFN5gTlj5N"
      }
    },
    {
      "cell_type": "code",
      "source": [
        "data=pd.read_excel('/content/Book1.xlsx')"
      ],
      "metadata": {
        "id": "YYc8OxPGLzx_"
      },
      "execution_count": 20,
      "outputs": []
    },
    {
      "cell_type": "code",
      "source": [
        "print(data)"
      ],
      "metadata": {
        "colab": {
          "base_uri": "https://localhost:8080/"
        },
        "id": "cShtCqZdR8n6",
        "outputId": "6c8e242d-7eda-405e-b6db-a247b2f83929"
      },
      "execution_count": 21,
      "outputs": [
        {
          "output_type": "stream",
          "name": "stdout",
          "text": [
            "         AT      PE\n",
            "0     14.96  463.26\n",
            "1     25.18  444.37\n",
            "2      5.11  488.56\n",
            "3     20.86  446.48\n",
            "4     10.82  473.90\n",
            "...     ...     ...\n",
            "9563  16.65  460.03\n",
            "9564  13.19  469.62\n",
            "9565  31.32  429.57\n",
            "9566  24.48  435.74\n",
            "9567  21.60  453.28\n",
            "\n",
            "[9568 rows x 2 columns]\n"
          ]
        }
      ]
    },
    {
      "cell_type": "code",
      "source": [
        "print(data.head())"
      ],
      "metadata": {
        "colab": {
          "base_uri": "https://localhost:8080/"
        },
        "id": "ck_IjLV2T6vo",
        "outputId": "8020b891-2e91-44f6-b826-1de71c90dcde"
      },
      "execution_count": 22,
      "outputs": [
        {
          "output_type": "stream",
          "name": "stdout",
          "text": [
            "      AT      PE\n",
            "0  14.96  463.26\n",
            "1  25.18  444.37\n",
            "2   5.11  488.56\n",
            "3  20.86  446.48\n",
            "4  10.82  473.90\n"
          ]
        }
      ]
    },
    {
      "cell_type": "markdown",
      "source": [
        "Select your group’s 20 rows"
      ],
      "metadata": {
        "id": "VZ_ZMnd9lsgi"
      }
    },
    {
      "cell_type": "code",
      "source": [
        "group_num=17\n"
      ],
      "metadata": {
        "id": "mNpnVJFvUDwT"
      },
      "execution_count": 16,
      "outputs": []
    },
    {
      "cell_type": "markdown",
      "source": [
        "Formula to calculate which rows belong to your group:"
      ],
      "metadata": {
        "id": "1He-aTwum2cV"
      }
    },
    {
      "cell_type": "code",
      "source": [
        "start_row = (group_num - 1) * 20 + 2\n",
        "end_row   = group_num * 20 + 1\n"
      ],
      "metadata": {
        "id": "i8wDeX90m_lm"
      },
      "execution_count": 64,
      "outputs": []
    },
    {
      "cell_type": "markdown",
      "source": [
        "Convert Excel row numbers (starting at 1) to Python indices (starting at 0)"
      ],
      "metadata": {
        "id": "rbOwnhs7nMJO"
      }
    },
    {
      "cell_type": "code",
      "source": [
        "start_index=start_row-1\n",
        "end_index=end_row\n"
      ],
      "metadata": {
        "id": "HmoiVPn_UrPE"
      },
      "execution_count": 65,
      "outputs": []
    },
    {
      "cell_type": "markdown",
      "source": [
        "Select your 20 rows from the dataset\n",
        "\n",
        "iloc[] → selects specific rows by their position"
      ],
      "metadata": {
        "id": "PbeOtM31niL_"
      }
    },
    {
      "cell_type": "code",
      "source": [
        "group_data=data.iloc[start_index:end_index].copy()"
      ],
      "metadata": {
        "id": "TQHQDm5GU5uS"
      },
      "execution_count": 29,
      "outputs": []
    },
    {
      "cell_type": "code",
      "source": [
        "print(f\"\\nGroup {group_num} data (rows {start_row} to {end_row}):\")\n",
        "print(group_data)"
      ],
      "metadata": {
        "colab": {
          "base_uri": "https://localhost:8080/"
        },
        "id": "ogsVBcgkVzI2",
        "outputId": "8b38d333-db2e-4d5d-dc48-411292ca4f80"
      },
      "execution_count": 31,
      "outputs": [
        {
          "output_type": "stream",
          "name": "stdout",
          "text": [
            "\n",
            "Group 17 data (rows 322 to 341):\n",
            "        AT      PE\n",
            "321  23.70  436.94\n",
            "322  16.22  461.06\n",
            "323  24.75  438.28\n",
            "324  10.48  472.61\n",
            "325  29.53  426.85\n",
            "326  12.59  470.18\n",
            "327  23.50  455.38\n",
            "328  29.01  428.32\n",
            "329   9.75  480.35\n",
            "330  19.55  455.56\n",
            "331  21.05  447.66\n",
            "332  24.72  443.06\n",
            "333  21.19  452.43\n",
            "334  10.77  477.81\n",
            "335  28.68  431.66\n",
            "336  29.87  431.80\n",
            "337  22.99  446.67\n",
            "338  24.66  445.26\n",
            "339  32.63  425.72\n",
            "340  31.38  430.58\n"
          ]
        }
      ]
    },
    {
      "cell_type": "markdown",
      "source": [
        "iloc[:, 0] → selects the first column (Temperature, in °C).\n",
        "\n",
        "iloc[:, 1] → selects the second column (Energy Output, in MW).\n",
        "\n",
        ".values → converts them to a NumPy array for mathematical operations.\n",
        "\n",
        ".reshape(-1, 1) → ensures the data is in a column format (not a single row)."
      ],
      "metadata": {
        "id": "Q5Kaf5vfoQUg"
      }
    },
    {
      "cell_type": "code",
      "source": [
        "'''iloc[:, 0] → selects the first column (Temperature, in °C).\n",
        "\n",
        "iloc[:, 1] → selects the second column (Energy Output, in MW).\n",
        "\n",
        ".values → converts them to a NumPy array for mathematical operations.\n",
        "\n",
        ".reshape(-1, 1) → ensures the data is in a column format (not a single row).'''\n",
        "X_raw = group_data.iloc[:, 0].values.reshape(-1, 1)\n",
        "Y_raw = group_data.iloc[:, 1].values.reshape(-1, 1)"
      ],
      "metadata": {
        "id": "0DXeTnerX9ZC"
      },
      "execution_count": 72,
      "outputs": []
    },
    {
      "cell_type": "markdown",
      "source": [
        "Transform the data (Standardization)"
      ],
      "metadata": {
        "id": "sKZGrzhSoYYo"
      }
    },
    {
      "cell_type": "code",
      "source": [
        "mean_x=np.mean(X_raw)\n",
        "std_x=np.std(X_raw)"
      ],
      "metadata": {
        "id": "Eluu71rAYp-L"
      },
      "execution_count": 33,
      "outputs": []
    },
    {
      "cell_type": "code",
      "source": [
        "x=(X_raw-mean_x)/std_x"
      ],
      "metadata": {
        "id": "Fjf5yViSY3EH"
      },
      "execution_count": 35,
      "outputs": []
    },
    {
      "cell_type": "code",
      "source": [
        "print(f\"\\nMean of X = {mean_x:.4f}\")\n",
        "print(f\"Standard Deviation of X = {std_x:.4f}\")\n",
        "print(\"\\nTransformed (standardized) X values:\")\n",
        "print(x)"
      ],
      "metadata": {
        "colab": {
          "base_uri": "https://localhost:8080/"
        },
        "id": "kP-_kUV3ZHFP",
        "outputId": "029c71b3-e3a3-4ace-d002-88bd70fc331b"
      },
      "execution_count": 38,
      "outputs": [
        {
          "output_type": "stream",
          "name": "stdout",
          "text": [
            "\n",
            "Mean of X = 22.3510\n",
            "Standard Deviation of X = 6.9910\n",
            "\n",
            "Transformed (standardized) X values:\n",
            "[[ 0.19296278]\n",
            " [-0.87698651]\n",
            " [ 0.34315619]\n",
            " [-1.69804385]\n",
            " [ 1.02689384]\n",
            " [-1.3962266 ]\n",
            " [ 0.16435451]\n",
            " [ 0.95251234]\n",
            " [-1.80246403]\n",
            " [-0.40065882]\n",
            " [-0.18609679]\n",
            " [ 0.33886495]\n",
            " [-0.16607101]\n",
            " [-1.65656186]\n",
            " [ 0.90530869]\n",
            " [ 1.0755279 ]\n",
            " [ 0.09140342]\n",
            " [ 0.33028247]\n",
            " [ 1.47032202]\n",
            " [ 1.29152033]]\n"
          ]
        }
      ]
    },
    {
      "cell_type": "code",
      "source": [
        "#add a column of ones to X\n",
        "x_new=np.hstack((np.ones_like(x), x))"
      ],
      "metadata": {
        "id": "WUGxt_7eZn3N"
      },
      "execution_count": 39,
      "outputs": []
    },
    {
      "cell_type": "code",
      "source": [
        "print(x_new)"
      ],
      "metadata": {
        "colab": {
          "base_uri": "https://localhost:8080/"
        },
        "id": "CNwHbTRBZ0kU",
        "outputId": "4c28e0d2-3fc8-4b16-f885-8edaaae7c151"
      },
      "execution_count": 40,
      "outputs": [
        {
          "output_type": "stream",
          "name": "stdout",
          "text": [
            "[[ 1.          0.19296278]\n",
            " [ 1.         -0.87698651]\n",
            " [ 1.          0.34315619]\n",
            " [ 1.         -1.69804385]\n",
            " [ 1.          1.02689384]\n",
            " [ 1.         -1.3962266 ]\n",
            " [ 1.          0.16435451]\n",
            " [ 1.          0.95251234]\n",
            " [ 1.         -1.80246403]\n",
            " [ 1.         -0.40065882]\n",
            " [ 1.         -0.18609679]\n",
            " [ 1.          0.33886495]\n",
            " [ 1.         -0.16607101]\n",
            " [ 1.         -1.65656186]\n",
            " [ 1.          0.90530869]\n",
            " [ 1.          1.0755279 ]\n",
            " [ 1.          0.09140342]\n",
            " [ 1.          0.33028247]\n",
            " [ 1.          1.47032202]\n",
            " [ 1.          1.29152033]]\n"
          ]
        }
      ]
    },
    {
      "cell_type": "code",
      "source": [
        "#mathematical formula for Least Squares\n",
        "#Linear Algebra module of NumPy (linalg)\n",
        "# inv() function used for calculating inverse\n",
        "theta_new = np.linalg.inv(x_new.T @ x_new) @ (x_new.T @ Y_raw)"
      ],
      "metadata": {
        "id": "Ob9S6FhKZ44d"
      },
      "execution_count": 73,
      "outputs": []
    },
    {
      "cell_type": "code",
      "source": [
        "# Extract the coefficients\n",
        "theta0_new = theta_new[0, 0]  # intercept\n",
        "theta1_new = theta_new[1, 0]  # slope\n"
      ],
      "metadata": {
        "id": "mVwgTztJaWnb"
      },
      "execution_count": 44,
      "outputs": []
    },
    {
      "cell_type": "code",
      "source": [
        "print(\"\\nClosed-form Linear Regression Parameters:\")\n",
        "print(f\"Theta0 (intercept) = {theta0_new:.6f}\")\n",
        "print(f\"Theta1 (slope) = {theta1_new:.6f}\")\n"
      ],
      "metadata": {
        "colab": {
          "base_uri": "https://localhost:8080/"
        },
        "id": "LxCF70kLakhQ",
        "outputId": "66f6e54c-b622-44bb-9dba-cd831e8d0dc6"
      },
      "execution_count": 45,
      "outputs": [
        {
          "output_type": "stream",
          "name": "stdout",
          "text": [
            "\n",
            "Closed-form Linear Regression Parameters:\n",
            "Theta0 (intercept) = 447.909000\n",
            "Theta1 (slope) = -16.524934\n"
          ]
        }
      ]
    },
    {
      "cell_type": "code",
      "source": [
        "#@ -> matrix multiplication\n",
        "y_pred=x_new @ theta_new"
      ],
      "metadata": {
        "id": "9tLgvNmcgolc"
      },
      "execution_count": 67,
      "outputs": []
    },
    {
      "cell_type": "code",
      "source": [
        "plt.figure(figsize=(10,6))\n"
      ],
      "metadata": {
        "colab": {
          "base_uri": "https://localhost:8080/",
          "height": 53
        },
        "id": "Vp-g4cnnbiPZ",
        "outputId": "4ed04347-793b-469a-ca62-1dbac5426409"
      },
      "execution_count": 70,
      "outputs": [
        {
          "output_type": "execute_result",
          "data": {
            "text/plain": [
              "<Figure size 1000x600 with 0 Axes>"
            ]
          },
          "metadata": {},
          "execution_count": 70
        },
        {
          "output_type": "display_data",
          "data": {
            "text/plain": [
              "<Figure size 1000x600 with 0 Axes>"
            ]
          },
          "metadata": {}
        }
      ]
    },
    {
      "cell_type": "code",
      "source": [
        "plt.scatter(x, Y_raw, color='blue', label='Data Points')\n",
        "plt.plot(x, y_pred, color='red', label='Regression Line')\n",
        "plt.title('Linear Regression (Least Squares Method)')\n",
        "plt.xlabel('Standardized Temperature (X)')\n",
        "plt.ylabel('Energy Output (Y)')\n",
        "plt.legend()\n",
        "plt.grid(True)\n",
        "plt.show()"
      ],
      "metadata": {
        "colab": {
          "base_uri": "https://localhost:8080/",
          "height": 472
        },
        "id": "rl8gZ9QSfbXN",
        "outputId": "a52ae9f3-79c0-482c-f572-102bb23b4327"
      },
      "execution_count": 71,
      "outputs": [
        {
          "output_type": "display_data",
          "data": {
            "text/plain": [
              "<Figure size 640x480 with 1 Axes>"
            ],
            "image/png": "[encoded data removed]"
          },
          "metadata": {}
        }
      ]
    }
  ]
}